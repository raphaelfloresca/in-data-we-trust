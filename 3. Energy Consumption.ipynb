{
 "cells": [
  {
   "cell_type": "markdown",
   "metadata": {},
   "source": [
    "# Energy Consumption"
   ]
  },
  {
   "cell_type": "code",
   "execution_count": null,
   "metadata": {
    "collapsed": true
   },
   "outputs": [],
   "source": [
    "import requests\n",
    "import pandas as pd\n",
    "import matplotlib.pyplot as plt\n",
    "import numpy as np\n",
    "import re"
   ]
  },
  {
   "cell_type": "code",
   "execution_count": null,
   "metadata": {
    "collapsed": true
   },
   "outputs": [],
   "source": [
    "!mkdir data\n",
    "\n",
    "!curl https://www.eia.gov/state/seds/sep_update/use_all_phy_update.csv -o ./data/consumption_phy.csv\n",
    "!curl https://www.eia.gov/state/seds/sep_use/total/csv/use_all_btu.csv -o ./data/consumption_btu.csv"
   ]
  },
  {
   "cell_type": "markdown",
   "metadata": {},
   "source": [
    "## Importing EIA data in physical units\n",
    "\n",
    "The following imports eia.gov energy consumption data in physical units. This contains data for the following indicators (as well as their units):\n",
    "\n",
    "* **CLRCP** = Coal consumed by the residential sector - thousand short tons\n",
    "* **DFRCP** = Distillate fuel oil consumed by the residential sector - thousand barrels\n",
    "* **ESRCP** = Electricity consumed by (i.e., sold to) the residential sector - million kilowatthours\n",
    "* **KSRCP** = Kerosene consumed by the residential sector - thousand barrels\n",
    "* **LGRCP** = LPG consumed by the residential sector - thousand barrels\n",
    "* **NGRCP** = Natural gas consumed by (delivered to) the residential sector (including supplemental gaseous fuels) - million cubic feet\n",
    "* **PARCP** = All petroleum products consumed by the residential sector - thousand barrels\n",
    "* **WDRCP** = Wood consumed by the residential sector - thousand cords\n",
    "\n",
    "The following indicators are not necessarily residential, but may be interesting to look at.\n",
    "\n",
    "* **HYTCP** = Hydroelectricity, total net generation - million kilowatthours"
   ]
  },
  {
   "cell_type": "code",
   "execution_count": null,
   "metadata": {
    "collapsed": true,
    "scrolled": true
   },
   "outputs": [],
   "source": [
    "# Imports EIA energy consumption data and deletes unnecessary columns and rows.\n",
    "consumption_phy = pd.read_csv('./data/consumption_phy.csv')\n",
    "consumption_phy = consumption_phy.drop(['Data_Status', '1960', '1961', '1962', '1963', '1964', '1965', '1966', '1967', '1968', '1969'], axis=1)\n",
    "consumption_phy = consumption_phy.drop(consumption_phy.index[910:1040])\n",
    "consumption_phy = consumption_phy.reset_index()\n",
    "consumption_phy = consumption_phy.drop(consumption_phy.index[5590:5723])\n",
    "consumption_phy = consumption_phy.drop('index', axis=1)\n",
    "\n",
    "# Melts the data so that the years are in a single column.\n",
    "consumption_phy = pd.melt(frame=consumption_phy, id_vars=['State', 'MSN'], var_name='Year', value_name='Reading')"
   ]
  },
  {
   "cell_type": "code",
   "execution_count": null,
   "metadata": {
    "collapsed": true
   },
   "outputs": [],
   "source": [
    "consumption_phy.head()"
   ]
  },
  {
   "cell_type": "markdown",
   "metadata": {},
   "source": [
    "## Importing EIA data in BTU\n",
    "\n",
    "The following imports eia.gov energy consumption data in BTU. This contains data for the following indicators:\n",
    "\n",
    "* **GERCB** = Geothermal energy consumed by the residential sector.\n",
    "* **LORCB** = The residential sector's share of electrical system energy losses.\n",
    "* **SFRCB** = Supplemental gaseous fuels consumed by the residential sector.\n",
    "* **SORCB** = Solar energy consumed by the residential sector.\n",
    "* **TERCB** = Total energy consumed by the residential sector.\n",
    "* **TERPB** = Total energy consumption per capita in the residential sector.\n",
    "* **TNRCB** = Total energy consumed by the residential sector excluding the sector's share of electrical system energy losses.\n",
    "\n",
    "\n",
    "The following indicators are not necessarily residential, but may be interesting to look at.\n",
    "\n",
    "* **FFTCB** = Fossil fuels, total consumption.\n",
    "* **HYTXB** = Hydropower, total end-use consumption.\n",
    "* **NUETB** = Nuclear energy consumed for electricity generation, total.\n",
    "* **RETCB** = Renewable energy total consumption.\n",
    "* **TETCB** = Total energy consumption.\n",
    "* **WYEGB** = Wind energy consumed for electricity generation by the electric power sector.\n",
    "* **WYTXB** = Wind energy, total end-use consumption."
   ]
  },
  {
   "cell_type": "code",
   "execution_count": null,
   "metadata": {
    "collapsed": true
   },
   "outputs": [],
   "source": [
    "# Imports EIA energy consumption data and deletes unnecessary columns and rows.\n",
    "consumption_btu = pd.read_csv('./data/consumption_btu.csv')\n",
    "consumption_btu = consumption_btu.drop(['Data_Status', '1960', '1961', '1962', '1963', '1964', '1965', '1966', '1967', '1968', '1969'], axis=1)\n",
    "consumption_btu = consumption_btu.drop(consumption_btu.index[1337:1528])\n",
    "consumption_btu = consumption_btu.reset_index()\n",
    "consumption_btu = consumption_btu.drop(consumption_btu.index[8213:8407])\n",
    "consumption_btu = consumption_btu.drop('index', axis=1)\n",
    "\n",
    "# Melts the data so that the years are in a single column.\n",
    "consumption_btu = pd.melt(frame=consumption_btu, id_vars=['State', 'MSN'], var_name='Year', value_name='Reading')"
   ]
  },
  {
   "cell_type": "code",
   "execution_count": null,
   "metadata": {
    "collapsed": true
   },
   "outputs": [],
   "source": [
    "consumption_btu.head()"
   ]
  },
  {
   "cell_type": "markdown",
   "metadata": {},
   "source": [
    "## Importing the state populations data\n",
    "\n",
    "The following imports the state populations data which was imported and cleaned from another notebook."
   ]
  },
  {
   "cell_type": "code",
   "execution_count": null,
   "metadata": {
    "collapsed": true
   },
   "outputs": [],
   "source": [
    "# state_dict used for remapping the state names in us_state_pop to state abbreviations.\n",
    "state_dict = {'Alaska': 'AK', 'Alabama': 'AL', 'Arkansas': 'AR', 'Arizona': 'AZ', 'California': 'CA', 'Colorado': 'CO',\n",
    "'Connecticut': 'CT', 'Delaware': 'DE', 'Florida': 'FL', 'Georgia': 'GA', 'Hawaii': 'HI', 'Iowa': 'IA', 'Idaho': 'ID',\n",
    "'Illinois': 'IL', 'Indiana': 'IN', 'Kansas': 'KS', 'Kentucky': 'KY', 'Louisiana': 'LA', 'Massachusetts': 'MA',\n",
    "'Maryland': 'MD', 'Maine': 'ME', 'Michigan': 'MI', 'Minnesota': 'MN', 'Missouri': 'MO', 'Mississippi': 'MS',\n",
    "'Montana': 'MT', 'North Carolina': 'NC','North Dakota': 'ND', 'Nebraska': 'NE', 'New Hampshire': 'NH',\n",
    "'New Jersey': 'NJ', 'New Mexico': 'NM', 'Nevada': 'NV', 'NY': 'New York', 'Ohio': 'OH', 'Oklahoma': 'OK',\n",
    "'Oregon': 'OR', 'Pennsylvania': 'PA', 'Rhode Island': 'RI', 'South Carolina': 'SC', 'South Dakota': 'SD',\n",
    "'Tennessee': 'TN', 'Texas': 'TX', 'Utah': 'UT', 'Virginia': 'VA', 'Vermont': 'VT', 'Washington': 'WA',\n",
    "'Wisconsin': 'WI', 'West Virginia': 'WV', 'Wyoming': 'WY'}\n",
    "\n",
    "us_state_pop = pd.read_csv('./data/US State Populations (1970-2016).csv')\n",
    "us_state_pop = us_state_pop.drop('Unnamed: 0', axis=1)\n",
    "us_state_pop = us_state_pop.replace(to_replace=state_dict)\n",
    "us_state_pop = us_state_pop.set_index(['State', 'Year'])\n",
    "us_state_pop = us_state_pop.sort_index()\n",
    "us_state_pop = us_state_pop.reset_index()"
   ]
  },
  {
   "cell_type": "code",
   "execution_count": null,
   "metadata": {
    "collapsed": true
   },
   "outputs": [],
   "source": [
    "us_state_pop.head()"
   ]
  },
  {
   "cell_type": "markdown",
   "metadata": {},
   "source": [
    "## Calculating per capita consumption\n",
    "\n",
    "The following calculates per capital consumption for each indicator by dividing the reading for a given state in a given year by the population for that year."
   ]
  },
  {
   "cell_type": "code",
   "execution_count": null,
   "metadata": {
    "collapsed": true
   },
   "outputs": [],
   "source": [
    "def per_capita_phy(MSN) :\n",
    "    # CLRCP = coal consumed by the residential sector - thousand short tons\n",
    "    df = consumption_phy.set_index('MSN')\n",
    "    df = df.loc[MSN]\n",
    "    df = df.reset_index()\n",
    "    df = df.set_index(['State', 'Year'])\n",
    "    df = df.sort_index()\n",
    "    df = df.reset_index()\n",
    "    df['Population'] = us_state_pop['Population']\n",
    "    df['Per capita consumption'] = df['Reading']/df['Population']\n",
    "    df = df[['State', 'Year', 'Population', 'MSN', 'Reading', 'Per capita consumption']]\n",
    "    df = df.set_index(['State', 'Year'])\n",
    "    return df\n",
    "\n",
    "# CLRCP = coal consumed by the residential sector - thousand short tons\n",
    "CLRCP = per_capita_phy('CLRCP')\n",
    "\n",
    "# DFRCP = distillate fuel oil consumed by the residential sector - thousand barrels\n",
    "DFRCP = per_capita_phy('DFRCP')\n",
    "\n",
    "# ESRCP = electrivity consumed by the residential sector (ie sold to) - million kilowatthours\n",
    "ESRCP = per_capita_phy('ESRCP')\n",
    "\n",
    "# KSRCP = kerosene consumed by the residential sector - thousand barrels\n",
    "ESRCP = per_capita_phy('ESRCP')\n",
    "\n",
    "# LGRCP = LPG consumed by the residential sector - thousand barrels\n",
    "LGRCP = per_capita_phy('LGRCP')\n",
    "\n",
    "# NGRCP = natural gas consumed by the residential sector (including supplemental gaseous fuel) - million cubic feet\n",
    "NGRCP = per_capita_phy('NGRCP')\n",
    "\n",
    "# PARCP = all petroleum products consumed by the residential sector - thousand barrels\n",
    "PARCP = per_capita_phy('PARCP')\n",
    "\n",
    "# WDRCP = wood consumed by the residential sector - thousand cords\n",
    "WDRCP = per_capita_phy('WDRCP')\n",
    "\n",
    "# Look at the following only if necessary.\n",
    "\n",
    "# HYTCP = Hydroelectricity, total net generation - million kilowatthours\n",
    "HYTCP = per_capita_phy('HYTCP')"
   ]
  },
  {
   "cell_type": "markdown",
   "metadata": {},
   "source": [
    "You can look up data for each source of energy by loading up the appropriate dataframe (the name is the same as the MSN code)."
   ]
  },
  {
   "cell_type": "code",
   "execution_count": null,
   "metadata": {
    "collapsed": true
   },
   "outputs": [],
   "source": [
    "HYTCP.head()"
   ]
  },
  {
   "cell_type": "code",
   "execution_count": null,
   "metadata": {
    "collapsed": true
   },
   "outputs": [],
   "source": [
    "def per_capita_btu(MSN) :\n",
    "    df = consumption_btu.set_index('MSN')\n",
    "    df = df.loc[MSN]\n",
    "    df = df.reset_index()\n",
    "    df = df.set_index(['State', 'Year'])\n",
    "    df = df.sort_index()\n",
    "    df = df.reset_index()\n",
    "    df['Population'] = us_state_pop['Population']\n",
    "    df['Per capita consumption'] = df['Reading']/df['Population']\n",
    "    df = df[['State', 'Year', 'Population', 'MSN', 'Reading', 'Per capita consumption']]\n",
    "    df = df.set_index(['State', 'Year'])\n",
    "    return df\n",
    "\n",
    "# GERCB = Geothermal energy consumed by the residential sector.\n",
    "\n",
    "GERCB = per_capita_btu('GERCB')\n",
    "\n",
    "# LORCB = The residential sector's share of electrical system energy losses.\n",
    "LORCB = per_capita_btu('LORCB')\n",
    "\n",
    "# SFRCB = Supplemental gaseous fuels consumed by the residential sector.\n",
    "SFRCB = per_capita_btu('SFRCB') \n",
    "\n",
    "# SORCB = Solar energy consumed by the residential sector.\n",
    "SORCB = per_capita_btu('SORCB') \n",
    "\n",
    "# TERCB = Total energy consumed by the residential sector.\n",
    "TERCB = per_capita_btu('TERCB') \n",
    "\n",
    "# TERPB = Total energy consumption per capita in the residential sector.\n",
    "TERPB = per_capita_btu('TERPB') \n",
    "\n",
    "# TNRCB = Total energy consumed by the residential sector excluding the sector's share of\n",
    "# electrical system energy losses.\n",
    "TNRCB = per_capita_btu('TNRCB') \n",
    "\n",
    "# Look at the following only if necessary.\n",
    "\n",
    "# FFTCB = Fossil fuels, total consumption.\n",
    "FFTCB = per_capita_btu('FFTCB') \n",
    "\n",
    "# HYTXB = Hydropower, total end-use consumption.\n",
    "HYTXB = per_capita_btu('HYTXB') \n",
    "\n",
    "# NUETB = Nuclear energy consumed for electricity generation, total.\n",
    "NUETB = per_capita_btu('NUETB') \n",
    "\n",
    "# RETCB = Renewable energy total consumption.\n",
    "RETCB = per_capita_btu('RETCB') \n",
    "\n",
    "# TETCB = Total energy consumption.\n",
    "TETCB = per_capita_btu('TETCB') \n",
    "\n",
    "# WYEGB = Wind energy consumed for electricity generation by the electric power sector.\n",
    "WYEGB = per_capita_btu('WYEGB') \n",
    "\n",
    "# WYTXB = Wind energy, total end-use consumption.\n",
    "WYTXB = per_capita_btu('WYTXB') "
   ]
  },
  {
   "cell_type": "markdown",
   "metadata": {},
   "source": [
    "You can look up data for each source of energy by loading up the appropriate dataframe (the name is the same as the MSN code)."
   ]
  },
  {
   "cell_type": "code",
   "execution_count": null,
   "metadata": {
    "collapsed": true
   },
   "outputs": [],
   "source": [
    "WYTXB.head()"
   ]
  }
 ],
 "metadata": {
  "kernelspec": {
   "display_name": "Python 3",
   "language": "python",
   "name": "python3"
  },
  "language_info": {
   "codemirror_mode": {
    "name": "ipython",
    "version": 3
   },
   "file_extension": ".py",
   "mimetype": "text/x-python",
   "name": "python",
   "nbconvert_exporter": "python",
   "pygments_lexer": "ipython3",
   "version": "3.6.3"
  }
 },
 "nbformat": 4,
 "nbformat_minor": 2
}
