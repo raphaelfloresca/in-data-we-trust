{
 "cells": [
  {
   "cell_type": "markdown",
   "metadata": {},
   "source": [
    "# US State Populations"
   ]
  },
  {
   "cell_type": "code",
   "execution_count": null,
   "metadata": {
    "collapsed": true
   },
   "outputs": [],
   "source": [
    "import requests\n",
    "import pandas as pd\n",
    "import matplotlib.pyplot as plt\n",
    "import numpy as np\n",
    "import re"
   ]
  },
  {
   "cell_type": "code",
   "execution_count": null,
   "metadata": {
    "collapsed": true
   },
   "outputs": [],
   "source": [
    "!mkdir data\n",
    "\n",
    "!curl https://www2.census.gov/programs-surveys/popest/tables/2000-2010/intercensal/state/st-est00int-01.xls -o ./data/us_state_populations_2000_2010.xls\n",
    "!curl https://www2.census.gov/programs-surveys/popest/tables/2010-2016/state/totals/nst-est2016-01.xlsx -o ./data/us_state_populations_2010_2016.xls"
   ]
  },
  {
   "cell_type": "markdown",
   "metadata": {},
   "source": [
    "## State Populations 1970-1979\n",
    "\n",
    "This cleans and tidies the dataset on the populations of all US states from 1970-1979 from the US Census Bureau."
   ]
  },
  {
   "cell_type": "code",
   "execution_count": null,
   "metadata": {
    "collapsed": true
   },
   "outputs": [],
   "source": [
    "# This is a list of US states.\n",
    "us_states = ['Alabama', 'Alaska', 'Arizona', 'Arkansas', 'California', 'Colorado', 'Connecticut', 'Delaware',\n",
    "             'Florida', 'Georgia', 'Hawaii', 'Idaho', 'Illinois', 'Indiana', 'Iowa', 'Kansas', 'Kentucky',\n",
    "             'Louisiana', 'Maine', 'Maryland', 'Massachusetts', 'Michigan', 'Minnesota', 'Mississippi', 'Missouri',\n",
    "             'Montana', 'Nebraska', 'Nevada', 'New Hampshire', 'New Jersey', 'New Mexico', 'New York',\n",
    "             'North Carolina', 'North Dakota', 'Ohio', 'Oklahoma', 'Oregon', 'Pennsylvania', 'Rhode Island',\n",
    "             'South Carolina', 'South Dakota', 'Tennessee', 'Texas', 'Utah', 'Vermont', 'Virginia', 'Washington',\n",
    "             'West Virginia', 'Wisconsin', 'Wyoming']\n",
    "\n",
    "# This function takes the name of a state, finds the data on that state and adds it to a string named stripped_data.\n",
    "def state_strip(state_name) :\n",
    "    url = 'https://www2.census.gov/programs-surveys/popest/tables/1900-1980/counties/totals/e7079co.txt'\n",
    "    r = requests.get(url)\n",
    "    text = r.text\n",
    "    stripped_data = ''\n",
    "    for item in text.split(\"\\n\") :\n",
    "        if state_name in item and \"Co.\" not in item and \"Beach\" not in item and \"Par.\" not in item:\n",
    "            stripped_data = stripped_data + '\\n' + item.strip()\n",
    "    return stripped_data\n",
    "\n",
    "# This function allows the state_strip function to loop over the us_states list.\n",
    "def state_strip_loop(states) :\n",
    "    all_data = ''\n",
    "    for state in states :\n",
    "        add_to_list = state_strip(state)\n",
    "        all_data = all_data + '\\n' + add_to_list\n",
    "    return all_data\n",
    "\n",
    "data = state_strip_loop(us_states)\n",
    "\n",
    "# This writes the output into a CSV file.\n",
    "file_70_79 = open('./data/US State Populations (1970-1979).csv','w')\n",
    "file_70_79.write(data)\n",
    "file_70_79.close()\n",
    "\n",
    "# Reads the output of this and gets rid of unnecessary data. This uses regex as there is\n",
    "# no consistent seperator in this dataset.\n",
    "df_70_79 = pd.read_csv('./data/US State Populations (1970-1979).csv', sep=r'\\s\\s+', header=None, engine='python')\n",
    "\n",
    "# Because the dataset has split entries from 1970-74 and 75-79 into two seperate rows, two seperate dataframes\n",
    "# have been made for these two year ranges by indexing the odd and even rows of df_70_79 \n",
    "df_70_74 = df_70_79.loc[::2]\n",
    "df_70_74 = df_70_74.reset_index()\n",
    "df_75_79 = df_70_79.loc[1::2]\n",
    "df_75_79 = df_75_79.reset_index()\n",
    "\n",
    "# This joins the two datasets together.\n",
    "df_70_79 = pd.concat([df_70_74, df_75_79], ignore_index=True, axis=1)\n",
    "\n",
    "# This creates dummy labels for unnecessary columns so that they can be later dropped. \n",
    "df_70_79.columns = ['Index 1', 'State 1', '1970', '1971', '1972', '1973', '1974', 'Index 2', 'State 2', '1975',\n",
    "                    '1976', '1977', '1978', '1979']\n",
    "\n",
    "# This drops a duplicate entry for West Virginia.\n",
    "df_70_79.drop(df_70_79.index[46], inplace=True)\n",
    "\n",
    "# This drops the unnecessary columns.\n",
    "df_70_79.drop(['Index 1', 'State 1', 'Index 2', 'State 2'], axis=1, inplace=True)\n",
    "\n",
    "# This imports the us_states list into the dataframe.\n",
    "df_70_79['State'] = us_states\n",
    "\n",
    "# This melts the dataframe.\n",
    "df_70_79 = pd.melt(frame=df_70_79, id_vars='State', var_name='Year', value_name='Population')"
   ]
  },
  {
   "cell_type": "code",
   "execution_count": null,
   "metadata": {
    "collapsed": true
   },
   "outputs": [],
   "source": [
    "df_70_79.tail()"
   ]
  },
  {
   "cell_type": "markdown",
   "metadata": {},
   "source": [
    "## State Populations 1980-1989\n",
    "\n",
    "This codes cleans and tidies the dataset on the populations of all US states from 1980-1989 from the US Census Bureau."
   ]
  },
  {
   "cell_type": "code",
   "execution_count": null,
   "metadata": {
    "collapsed": true
   },
   "outputs": [],
   "source": [
    "# This sends an HTTP request to the dataset and saves it as text_1.\n",
    "url = 'https://www2.census.gov/programs-surveys/popest/tables/1980-1990/state/asrh/8090com.txt'\n",
    "r = requests.get(url)\n",
    "text = r.text\n",
    "\n",
    "# This get all the needed information and stores it in stripped_data_1\n",
    "stripped_data = ''\n",
    "for item in text.split(\"\\n\") :\n",
    "    if \"POPULATION\" in item and \"CURRENT\" not in item :\n",
    "        stripped_data = stripped_data + '\\n' + item.strip()\n",
    "\n",
    "# This writes the output into a CSV file.\n",
    "file_80_90 = open('./data/US State Populations (1980-1990).csv','w')\n",
    "file_80_90.write(stripped_data)\n",
    "file_80_90.close()\n",
    "\n",
    "# This reads the CSV file into a DataFrame, using regex to parse the values.\n",
    "df_80_90 = pd.read_csv('./data/US State Populations (1980-1990).csv', sep=r'\\s\\s*', header=None, engine='python')\n",
    "\n",
    "# This creates dummy labels to be dropped later.\n",
    "df_80_90.columns = ['Dummy State', 'Population', '1980', '1981', '1982', '1983', '1984', '1985', '1986', '1987',\n",
    "                    '1988', '1989', '1990']\n",
    "\n",
    "# This drops these dummy labels and drops unnecessary entries for the total population and Washington, D.C.\n",
    "df_80_90.drop(['Dummy State', 'Population', '1990'], axis=1, inplace=True)\n",
    "df_80_90.drop(df_80_90.index[[0, 9]], inplace=True)\n",
    "\n",
    "# This resets the index.\n",
    "df_80_90 = df_80_90.reset_index()\n",
    "\n",
    "# This drops the 'index' column.\n",
    "df_80_90.drop(['index'], axis=1, inplace=True)\n",
    "\n",
    "# This imports the us_states list and sets it as an index.\n",
    "df_80_90['State'] = us_states\n",
    "\n",
    "# This melts the dataframe.\n",
    "df_80_90 = pd.melt(frame=df_80_90, id_vars='State', var_name='Year', value_name='Population')"
   ]
  },
  {
   "cell_type": "code",
   "execution_count": null,
   "metadata": {
    "collapsed": true
   },
   "outputs": [],
   "source": [
    "df_80_90.tail()"
   ]
  },
  {
   "cell_type": "markdown",
   "metadata": {},
   "source": [
    "## State Populations 1990-1999\n",
    "\n",
    "This codes cleans and tidies the dataset on the populations of all US states from 1990-1999 from the US Census Bureau."
   ]
  },
  {
   "cell_type": "code",
   "execution_count": null,
   "metadata": {
    "collapsed": true
   },
   "outputs": [],
   "source": [
    "# Import the pre-converted CSV file and remove commas\n",
    "data_90_00_path = './data/US State Populations (1990-2000).csv'\n",
    "df_90_00 = pd.read_csv(data_90_00_path, header=None)\n",
    "df_90_00 = df_90_00.replace(',', '', regex=True)\n",
    "\n",
    "# This drops the unnecessary rows and columns.\n",
    "df_90_00 = df_90_00.drop(df_90_00.index[[0, 1, 2, 3, 4, 5, 14, 46, 47, 48, 49, 50, 51, 63, 64, 65, 66, 67]])\n",
    "df_90_00 = df_90_00.reset_index()\n",
    "df_90_00 = df_90_00.drop('index', axis=1)\n",
    "df_90_00.columns = ['State', '1990 Estimate', '1990', '1991', '1992', '1993', '1994', '1995', '1996', '1997', '1998',\n",
    "                    '1999', '2000']\n",
    "df_90_00 = df_90_00.drop(['1990 Estimate', '2000'], axis=1)\n",
    "\n",
    "# This melts the DataFrame.\n",
    "df_90_00 = pd.melt(frame=df_90_00, id_vars='State', var_name='Year', value_name='Population')"
   ]
  },
  {
   "cell_type": "code",
   "execution_count": null,
   "metadata": {
    "collapsed": true
   },
   "outputs": [],
   "source": [
    "df_90_00.tail()"
   ]
  },
  {
   "cell_type": "markdown",
   "metadata": {},
   "source": [
    "## State Populations 2000-2009\n",
    "\n",
    "This codes cleans and tidies the dataset on the populations of all US states from 2000-2009 from the US Census Bureau."
   ]
  },
  {
   "cell_type": "code",
   "execution_count": null,
   "metadata": {
    "collapsed": true
   },
   "outputs": [],
   "source": [
    "# This reads the Excel file from this path.\n",
    "df_00_10 = pd.read_excel('./data/us_state_populations_2000_2010.xls', header=None)\n",
    "\n",
    "# This drops unnecessary rows and columns and resets the indez.\n",
    "df_00_10 = df_00_10.drop(df_00_10.index[[0, 1, 2, 3, 4, 5, 6, 7, 8, 17, 60, 61, 62, 63, 64, 65, 66, 67, 68, 69]])\n",
    "df_00_10.columns = ['State', 'April 2000', '2000', '2001', '2002', '2003', '2004', '2005', '2006', '2007', '2008',\n",
    "                    '2009', 'April 2010', '2010']\n",
    "df_00_10 = df_00_10.reset_index()\n",
    "df_00_10 = df_00_10.drop(['index', 'State', 'April 2000', 'April 2010', '2010'], axis=1)\n",
    "\n",
    "# The values were in floats for some reason, this resets them to ints.\n",
    "df_00_10 = df_00_10.astype(int)\n",
    "\n",
    "# This imports the us_states column.\n",
    "df_00_10['State'] = us_states\n",
    "\n",
    "# This melts the DataFrame.\n",
    "df_00_10 = pd.melt(frame=df_00_10, id_vars='State', var_name='Year', value_name='Population')\n",
    "\n",
    "df_00_10.tail()"
   ]
  },
  {
   "cell_type": "markdown",
   "metadata": {},
   "source": [
    "## State Populations 2010-2016\n",
    "\n",
    "This codes cleans and tidies the dataset on the populations of all US states from 2010-2016 from the US Census Bureau."
   ]
  },
  {
   "cell_type": "code",
   "execution_count": null,
   "metadata": {
    "collapsed": true
   },
   "outputs": [],
   "source": [
    "# This reads the Excel file from this path.\n",
    "df_10_16 = pd.read_excel('./data/us_state_populations_2010_2016.xls', header=None)\n",
    "\n",
    "# This drops unnecessary rows and columns and resets the index.\n",
    "df_10_16 = df_10_16.drop([0, 1, 2, 3, 4, 5, 6, 7, 8, 17, 60, 61, 62, 63, 64, 65, 66])\n",
    "df_10_16 = df_10_16.drop([0, 1, 2], axis=1)\n",
    "\n",
    "# This turns the floats into integers.\n",
    "df_10_16 = df_10_16.astype(int)\n",
    "\n",
    "# This creates a column with the states' names.\n",
    "df_10_16['State'] = us_states\n",
    "\n",
    "# This gives names to the columns.\n",
    "df_10_16.columns = ['2010', '2011', '2012', '2013', '2014', '2015', '2016', 'State']\n",
    "\n",
    "# This melts the DataFrame.\n",
    "df_10_16 = pd.melt(frame=df_10_16, id_vars='State', var_name='Year', value_name='Population')"
   ]
  },
  {
   "cell_type": "code",
   "execution_count": null,
   "metadata": {
    "collapsed": true
   },
   "outputs": [],
   "source": [
    "df_10_16.tail()"
   ]
  },
  {
   "cell_type": "code",
   "execution_count": null,
   "metadata": {
    "collapsed": true
   },
   "outputs": [],
   "source": [
    "# This brings all the datasets together and sets the state and the year as the index.\n",
    "us_state_pop = pd.concat([df_70_79, df_80_90, df_90_00, df_00_10, df_10_16])\n",
    "us_state_pop['Population'] = us_state_pop['Population']\n",
    "us_state_pop.to_csv('./data/US State Populations (1970-2016).csv')"
   ]
  }
 ],
 "metadata": {
  "kernelspec": {
   "display_name": "Python 3",
   "language": "python",
   "name": "python3"
  },
  "language_info": {
   "codemirror_mode": {
    "name": "ipython",
    "version": 3
   },
   "file_extension": ".py",
   "mimetype": "text/x-python",
   "name": "python",
   "nbconvert_exporter": "python",
   "pygments_lexer": "ipython3",
   "version": "3.6.3"
  }
 },
 "nbformat": 4,
 "nbformat_minor": 2
}
