{
 "cells": [
  {
   "cell_type": "markdown",
   "metadata": {},
   "source": [
    "# Water Consumption"
   ]
  },
  {
   "cell_type": "code",
   "execution_count": null,
   "metadata": {
    "collapsed": true
   },
   "outputs": [],
   "source": [
    "import requests\n",
    "import pandas as pd\n",
    "import matplotlib.pyplot as plt\n",
    "import numpy as np"
   ]
  },
  {
   "cell_type": "code",
   "execution_count": null,
   "metadata": {
    "collapsed": true
   },
   "outputs": [],
   "source": [
    "!mkdir data"
   ]
  },
  {
   "cell_type": "markdown",
   "metadata": {},
   "source": [
    "The following will produce a list of strings, let this run until the end."
   ]
  },
  {
   "cell_type": "code",
   "execution_count": null,
   "metadata": {
    "collapsed": true
   },
   "outputs": [],
   "source": [
    "all_states = ['AL', 'AK', 'AZ', 'AR', 'CA', 'CO', 'CT', 'DE', 'FL', 'GA', 'HI', 'ID', 'IL', 'IN', 'IA', 'KS', 'KY',\n",
    "              'LA', 'ME', 'MD', 'MA', 'MI', 'MN', 'MS', 'MO', 'MT', 'NE', 'NV', 'NH', 'NJ', 'NM', 'NY', 'NC', 'ND',\n",
    "              'OH', 'OK', 'OR', 'PA', 'RI', 'SC', 'SD', 'TN', 'TX', 'UT', 'VT', 'VA', 'WA', 'WV', 'WI', 'WY']\n",
    "\n",
    "all_states = [state.lower() for state in all_states]\n",
    "\n",
    "all_years = [1985, 1990, 1995, 2000, 2005, 2010]\n",
    "\n",
    "def delete_csv() :\n",
    "    open('./data/water_consumption.csv','w').close\n",
    "\n",
    "# Function which takes the all_states and all_years lists and puts all this information into a .csv file.\n",
    "def state_import(states, years) :\n",
    "    # Makes a list of all the URLS\n",
    "    url_list = []\n",
    "    for state in states :\n",
    "        url_1 = 'https://waterdata.usgs.gov/' + str(state)\n",
    "        for year in years :\n",
    "            url = url_1 + '/nwis/water_use?format=rdb&rdb_compression=value&wu_area=State+Total&wu_year=' + str(year) + '&wu_category=DO&wu_category_nms=Domestic'\n",
    "            url_list.append(url)\n",
    "            \n",
    "    return(url_list)\n",
    "\n",
    "delete_csv()\n",
    "states = state_import(all_states, all_years)\n",
    "\n",
    "f = open('./data/water_consumption.csv','w')\n",
    "\n",
    "for index, state in enumerate(states) :\n",
    "    print(state)\n",
    "    r = requests.get(state)\n",
    "    \n",
    "    fullText = r.text\n",
    "    lastLine = fullText.splitlines()[-1]\n",
    "    print(lastLine)\n",
    "    \n",
    "    if len(lastLine) < 15 :\n",
    "        pass\n",
    "    else :\n",
    "        f.write(\"%s\\n\" % lastLine)\n",
    "    \n",
    "    # Display all records\n",
    "    if index == 301 :\n",
    "        break\n",
    "\n",
    "f.close()\n",
    "\n",
    "# Reads the output of this and gets rid of unnecessary data.\n",
    "water_consumption = pd.read_csv('./data/water_consumption.csv', comment='#', sep='\\t')\n",
    "water_consumption.columns = ['state_cd', 'State', 'Year',\n",
    "                             'Domestic self-supplied groundwater withdrawals, fresh, in Mgal/d',\n",
    "                             'Domestic self-supplied groundwater withdrawals, saline, in Mgal/d',\n",
    "                             'Domestic total self-supplied withdrawals, groundwater, in Mgal/d',\n",
    "                             'Domestic self-supplied surface-water withdrawals, fresh, in Mgal/d',\n",
    "                             'Domestic self-supplied surface-water withdrawals, saline, in Mgal/d',\n",
    "                             'Domestic total self-supplied withdrawals, surface water, in Mgal/d',\n",
    "                             'Domestic total self-supplied withdrawals, fresh, in Mgal/d',\n",
    "                             'Domestic self-supplied population, in thousands',\n",
    "                             'Domestic deliveries from public supply, in Mgal/d',\n",
    "                             'Domestic total self-supplied withdrawals, saline, in Mgal/d',\n",
    "                             'Domestic per capita use, public-supplied, in gallons/person/day',\n",
    "                             'Domestic total self-supplied withdrawals, in Mgal/d',\n",
    "                             'Domestic total self-supplied withdrawals plus deliveries, in Mgal/d',\n",
    "                             'Domestic consumptive use, fresh, in Mgal/d',\n",
    "                             'Domestic consumptive use, saline, in Mgal/d',\n",
    "                             'Domestic total consumptive use, in Mgal/d',\n",
    "                             'Domestic per capita use, self-supplied, in gallons/person/day']\n",
    "water_consumption = water_consumption.drop('state_cd', axis=1)\n",
    "water_consumption = water_consumption.set_index(['State', 'Year'])\n",
    "water_consumption = water_consumption.sort_index()"
   ]
  },
  {
   "cell_type": "code",
   "execution_count": null,
   "metadata": {
    "collapsed": true
   },
   "outputs": [],
   "source": [
    "water_consumption"
   ]
  }
 ],
 "metadata": {
  "kernelspec": {
   "display_name": "Python 3",
   "language": "python",
   "name": "python3"
  },
  "language_info": {
   "codemirror_mode": {
    "name": "ipython",
    "version": 3
   },
   "file_extension": ".py",
   "mimetype": "text/x-python",
   "name": "python",
   "nbconvert_exporter": "python",
   "pygments_lexer": "ipython3",
   "version": "3.6.3"
  }
 },
 "nbformat": 4,
 "nbformat_minor": 2
}
