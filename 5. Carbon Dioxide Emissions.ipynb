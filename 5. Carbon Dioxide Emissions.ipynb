{
 "cells": [
  {
   "cell_type": "markdown",
   "metadata": {},
   "source": [
    "# Carbon Dioxide Emissions"
   ]
  },
  {
   "cell_type": "code",
   "execution_count": null,
   "metadata": {
    "collapsed": true
   },
   "outputs": [],
   "source": [
    "import pandas as pd\n",
    "import matplotlib.pyplot as plt\n",
    "import numpy as np"
   ]
  },
  {
   "cell_type": "code",
   "execution_count": null,
   "metadata": {
    "collapsed": true
   },
   "outputs": [],
   "source": [
    "!mkdir data\n",
    "\n",
    "!curl https://www.eia.gov/environment/emissions/state/archive/state2014/excel/residential_CO2_by_state_2014.xlsx -o ./data/co2_emission.xlsx"
   ]
  },
  {
   "cell_type": "code",
   "execution_count": null,
   "metadata": {
    "collapsed": true
   },
   "outputs": [],
   "source": [
    "# Import the xlsx\n",
    "co2_emissions_path = './data/co2_emission.xlsx'\n",
    "co2_emissions = pd.read_excel(co2_emissions_path)\n",
    "\n",
    "# Name columns\n",
    "co2_emissions.columns = ['State', '1980', '1981', '1982', '1983', '1984', '1985', '1986', '1987', '1988', '1989',\n",
    "                         '1990', '1991', '1992', '1993', '1994', '1995', '1996', '1997', '1998', '1999', '2000', \n",
    "                         '2001', '2002', '2003', '2004', '2005', '2006', '2007', '2008', '2009', '2010', '2011',\n",
    "                         '2012', '2013', '2014', 'Percent', 'Absolute']\n",
    "\n",
    "# Drop unnecessary rows and columns\n",
    "co2_emissions = co2_emissions.drop(co2_emissions.index[0:2])\n",
    "co2_emissions = co2_emissions.drop(co2_emissions.index[51:58])\n",
    "co2_emissions = co2_emissions.drop(co2_emissions.index[8])\n",
    "co2_emissions.drop(['Percent'], axis=1, inplace=True)\n",
    "co2_emissions.drop(['Absolute'], axis=1, inplace=True)\n",
    "\n",
    "# Melted the years\n",
    "co2_emissions = pd.melt(frame=co2_emissions, id_vars=['State'], var_name='Year',\n",
    "                        value_name='Emissions (million metric tonnes)')\n",
    "co2_emissions = co2_emissions.set_index(['State', 'Year'])\n",
    "co2_emissions = co2_emissions.sort_index()\n",
    "co2_emissions = co2_emissions.reset_index()"
   ]
  },
  {
   "cell_type": "code",
   "execution_count": null,
   "metadata": {
    "collapsed": true
   },
   "outputs": [],
   "source": [
    "co2_emissions.head()"
   ]
  },
  {
   "cell_type": "code",
   "execution_count": null,
   "metadata": {
    "collapsed": true
   },
   "outputs": [],
   "source": [
    "# This imports US state population data \n",
    "us_state_pop = pd.read_csv('./data/US State Populations (1970-2016).csv')\n",
    "us_state_pop = us_state_pop.drop('Unnamed: 0', axis=1)\n",
    "us_state_pop = us_state_pop.pivot(index='State', columns='Year', values='Population')\n",
    "us_state_pop = us_state_pop.drop([1970, 1971, 1972, 1973, 1974, 1975, 1976, 1977, 1978, 1979, 2015, 2016], axis=1)\n",
    "us_state_pop = us_state_pop.reset_index()\n",
    "us_state_pop = us_state_pop.melt(id_vars='State', var_name='Year', value_name='Population')\n",
    "us_state_pop = us_state_pop.set_index(['State', 'Year'])\n",
    "us_state_pop = us_state_pop.sort_index()\n",
    "us_state_pop = us_state_pop.reset_index()"
   ]
  },
  {
   "cell_type": "code",
   "execution_count": null,
   "metadata": {
    "collapsed": true
   },
   "outputs": [],
   "source": [
    "us_state_pop.head()"
   ]
  },
  {
   "cell_type": "code",
   "execution_count": null,
   "metadata": {
    "collapsed": true
   },
   "outputs": [],
   "source": [
    "# This calculates per capita emissions\n",
    "co2_emissions['Population'] = us_state_pop['Population']\n",
    "co2_emissions['Per capita emissions (metric tonnes)'] = (co2_emissions['Emissions (million metric tonnes)']/\n",
    "                                                          co2_emissions['Population']) * 10**6\n",
    "co2_emissions = co2_emissions[['State', 'Year', 'Population', 'Emissions (million metric tonnes)',\n",
    "                               'Per capita emissions (metric tonnes)']]"
   ]
  },
  {
   "cell_type": "code",
   "execution_count": null,
   "metadata": {
    "collapsed": true
   },
   "outputs": [],
   "source": [
    "co2_emissions.head()"
   ]
  }
 ],
 "metadata": {
  "kernelspec": {
   "display_name": "Python 3",
   "language": "python",
   "name": "python3"
  },
  "language_info": {
   "codemirror_mode": {
    "name": "ipython",
    "version": 3
   },
   "file_extension": ".py",
   "mimetype": "text/x-python",
   "name": "python",
   "nbconvert_exporter": "python",
   "pygments_lexer": "ipython3",
   "version": "3.6.3"
  }
 },
 "nbformat": 4,
 "nbformat_minor": 2
}
